{
 "cells": [
  {
   "cell_type": "code",
   "execution_count": 1,
   "id": "d5590c42",
   "metadata": {},
   "outputs": [],
   "source": [
    "import pandas as pd \n",
    "import numpy as np"
   ]
  },
  {
   "cell_type": "code",
   "execution_count": 2,
   "id": "fb4e50b1",
   "metadata": {},
   "outputs": [
    {
     "data": {
      "text/html": [
       "<div>\n",
       "<style scoped>\n",
       "    .dataframe tbody tr th:only-of-type {\n",
       "        vertical-align: middle;\n",
       "    }\n",
       "\n",
       "    .dataframe tbody tr th {\n",
       "        vertical-align: top;\n",
       "    }\n",
       "\n",
       "    .dataframe thead th {\n",
       "        text-align: right;\n",
       "    }\n",
       "</style>\n",
       "<table border=\"1\" class=\"dataframe\">\n",
       "  <thead>\n",
       "    <tr style=\"text-align: right;\">\n",
       "      <th></th>\n",
       "      <th>rowid</th>\n",
       "      <th>species</th>\n",
       "      <th>island</th>\n",
       "      <th>bill_length_mm</th>\n",
       "      <th>bill_depth_mm</th>\n",
       "      <th>flipper_length_mm</th>\n",
       "      <th>body_mass_g</th>\n",
       "      <th>sex</th>\n",
       "      <th>year</th>\n",
       "    </tr>\n",
       "  </thead>\n",
       "  <tbody>\n",
       "    <tr>\n",
       "      <th>0</th>\n",
       "      <td>1</td>\n",
       "      <td>Adelie</td>\n",
       "      <td>Torgersen</td>\n",
       "      <td>39.1</td>\n",
       "      <td>18.7</td>\n",
       "      <td>181.0</td>\n",
       "      <td>3750.0</td>\n",
       "      <td>male</td>\n",
       "      <td>2007</td>\n",
       "    </tr>\n",
       "    <tr>\n",
       "      <th>1</th>\n",
       "      <td>2</td>\n",
       "      <td>Adelie</td>\n",
       "      <td>Torgersen</td>\n",
       "      <td>39.5</td>\n",
       "      <td>17.4</td>\n",
       "      <td>186.0</td>\n",
       "      <td>3800.0</td>\n",
       "      <td>female</td>\n",
       "      <td>2007</td>\n",
       "    </tr>\n",
       "    <tr>\n",
       "      <th>2</th>\n",
       "      <td>3</td>\n",
       "      <td>Adelie</td>\n",
       "      <td>Torgersen</td>\n",
       "      <td>40.3</td>\n",
       "      <td>18.0</td>\n",
       "      <td>195.0</td>\n",
       "      <td>3250.0</td>\n",
       "      <td>female</td>\n",
       "      <td>2007</td>\n",
       "    </tr>\n",
       "    <tr>\n",
       "      <th>3</th>\n",
       "      <td>4</td>\n",
       "      <td>Adelie</td>\n",
       "      <td>Torgersen</td>\n",
       "      <td>NaN</td>\n",
       "      <td>NaN</td>\n",
       "      <td>NaN</td>\n",
       "      <td>NaN</td>\n",
       "      <td>NaN</td>\n",
       "      <td>2007</td>\n",
       "    </tr>\n",
       "    <tr>\n",
       "      <th>4</th>\n",
       "      <td>5</td>\n",
       "      <td>Adelie</td>\n",
       "      <td>Torgersen</td>\n",
       "      <td>36.7</td>\n",
       "      <td>19.3</td>\n",
       "      <td>193.0</td>\n",
       "      <td>3450.0</td>\n",
       "      <td>female</td>\n",
       "      <td>2007</td>\n",
       "    </tr>\n",
       "  </tbody>\n",
       "</table>\n",
       "</div>"
      ],
      "text/plain": [
       "   rowid species     island  bill_length_mm  bill_depth_mm  flipper_length_mm  \\\n",
       "0      1  Adelie  Torgersen            39.1           18.7              181.0   \n",
       "1      2  Adelie  Torgersen            39.5           17.4              186.0   \n",
       "2      3  Adelie  Torgersen            40.3           18.0              195.0   \n",
       "3      4  Adelie  Torgersen             NaN            NaN                NaN   \n",
       "4      5  Adelie  Torgersen            36.7           19.3              193.0   \n",
       "\n",
       "   body_mass_g     sex  year  \n",
       "0       3750.0    male  2007  \n",
       "1       3800.0  female  2007  \n",
       "2       3250.0  female  2007  \n",
       "3          NaN     NaN  2007  \n",
       "4       3450.0  female  2007  "
      ]
     },
     "execution_count": 2,
     "metadata": {},
     "output_type": "execute_result"
    }
   ],
   "source": [
    "df = pd.read_csv(\"./data/penguins.csv\")\n",
    "df.head()"
   ]
  },
  {
   "cell_type": "code",
   "execution_count": 3,
   "id": "b7eb4c2b",
   "metadata": {},
   "outputs": [],
   "source": [
    "classes = list(df[\"species\"].unique())\n",
    "classes\n",
    "labels = df[[\"species\"]]"
   ]
  },
  {
   "cell_type": "code",
   "execution_count": 4,
   "id": "497958bc",
   "metadata": {},
   "outputs": [
    {
     "data": {
      "text/plain": [
       "<seaborn.axisgrid.FacetGrid at 0x743535807da0>"
      ]
     },
     "execution_count": 4,
     "metadata": {},
     "output_type": "execute_result"
    },
    {
     "data": {
      "image/png": "[encoded data removed]",
      "text/plain": [
       "<Figure size 617x500 with 1 Axes>"
      ]
     },
     "metadata": {},
     "output_type": "display_data"
    }
   ],
   "source": [
    "import seaborn as sns\n",
    "corr_matrix = df[[\"bill_length_mm\",\t\"bill_depth_mm\",\"flipper_length_mm\", \"body_mass_g\"]].corr()\n",
    "corr_matrix[\"flipper_length_mm\"].sort_values(ascending=False)\n",
    "sns.relplot(data=df, x=\"bill_length_mm\", y=\"body_mass_g\", hue=\"species\")"
   ]
  },
  {
   "cell_type": "code",
   "execution_count": 5,
   "id": "fe4adf7f",
   "metadata": {},
   "outputs": [
    {
     "data": {
      "text/plain": [
       "((333, 4), (333,))"
      ]
     },
     "execution_count": 5,
     "metadata": {},
     "output_type": "execute_result"
    }
   ],
   "source": [
    "from sklearn.model_selection import train_test_split\n",
    "\n",
    "df = df.dropna()\n",
    "y = df[\"species\"]\n",
    "X = df[[\"bill_length_mm\",\"bill_depth_mm\",\"flipper_length_mm\", \"body_mass_g\"]]\n",
    "\n",
    "X.shape, y.shape"
   ]
  },
  {
   "cell_type": "code",
   "execution_count": 6,
   "id": "78db9501",
   "metadata": {},
   "outputs": [],
   "source": [
    "X_train, X_test, y_train, y_test = train_test_split(X, y, test_size=0.33, random_state=42)"
   ]
  },
  {
   "cell_type": "code",
   "execution_count": 7,
   "id": "7de44ce4",
   "metadata": {},
   "outputs": [],
   "source": [
    "from sklearn.preprocessing import StandardScaler, MinMaxScaler, RobustScaler, FunctionTransformer\n",
    "\n",
    "\n",
    "all_scalers = [\n",
    "    StandardScaler(),\n",
    "    MinMaxScaler(),\n",
    "    RobustScaler(),\n",
    "]"
   ]
  },
  {
   "cell_type": "code",
   "execution_count": 8,
   "id": "ad6f2c96",
   "metadata": {},
   "outputs": [],
   "source": [
    "from sklearn.ensemble import RandomForestClassifier, GradientBoostingClassifier\n",
    "from sklearn.linear_model import LogisticRegression\n",
    "from sklearn.svm import SVC\n",
    "from sklearn.neighbors import KNeighborsClassifier\n",
    "from sklearn.cluster import KMeans\n",
    "\n",
    "model_params = {\n",
    "\n",
    "    'Logistic_Regression': {\n",
    "        'model': LogisticRegression(max_iter=1000),\n",
    "        'params': {\n",
    "            'classifier__C': [0.1, 1, 10],\n",
    "            'classifier__penalty': ['l2'],\n",
    "            'classifier__solver': ['lbfgs']  # Optional, but explicit\n",
    "        },\n",
    "        \"scalers\": [\n",
    "            StandardScaler(),\n",
    "            MinMaxScaler(),\n",
    "            RobustScaler(),\n",
    "        ]\n",
    "    },\n",
    "\n",
    "    'Random_Forest': {\n",
    "        'model': RandomForestClassifier(random_state=0),\n",
    "        'params': {\n",
    "            'classifier__n_estimators': [50, 100],\n",
    "            'classifier__max_depth': [None, 10, 20]\n",
    "        },\n",
    "        \"scalers\": all_scalers,\n",
    "    },\n",
    "\n",
    "    'Gradient_Boosting': {\n",
    "        'model': GradientBoostingClassifier(random_state=0),\n",
    "        'params': {\n",
    "            'classifier__n_estimators': [50, 100],\n",
    "            'classifier__learning_rate': [0.01, 0.1]\n",
    "        },\n",
    "        \"scalers\": all_scalers,\n",
    "    },\n",
    "\n",
    "    'SVC': {\n",
    "        'model': SVC(random_state=0),\n",
    "        'params': {\n",
    "            'classifier__C': [0.1, 1, 10],\n",
    "            'classifier__kernel': ['linear', 'rbf']\n",
    "        },\n",
    "        \"scalers\": all_scalers,\n",
    "    }, \n",
    "\n",
    "    \"KNN\": {\n",
    "        \"model\": KNeighborsClassifier(),\n",
    "        \"params\": {\n",
    "            \"classifier__n_neighbors\":[2, 8, 16, 32],\n",
    "            \"classifier__weights\":[\"uniform\", \"distance\"],\n",
    "            \"classifier__algorithm\":[\"auto\", \"ball_tree\", \"kd_tree\", \"brute\"],\n",
    "        },\n",
    "        \"scalers\": all_scalers,\n",
    "    },\n",
    "\n",
    "    \"KMeans\": {\n",
    "        \"model\": KMeans(\n",
    "            n_clusters= len(classes), \n",
    "            random_state=0),\n",
    "        \"params\": {\n",
    "            \"classifier__algorithm\": [\"lloyd\", \"elkan\"],\n",
    "        },\n",
    "        \"scalers\": all_scalers,\n",
    "    },\n",
    "}\n",
    "\n",
    "\n",
    "\"\"\"\n",
    "    \"ModelName\": {\n",
    "        \"model\": ModelName(),\n",
    "        \"params\": {\n",
    "            \"classifier__arg\": [],\n",
    "        },\n",
    "        \"scalers\": all_scalers,\n",
    "    },\n",
    "\n",
    "\"\"\"\n",
    "pass "
   ]
  },
  {
   "cell_type": "code",
   "execution_count": 9,
   "id": "8f01e6b3",
   "metadata": {},
   "outputs": [
    {
     "name": "stdout",
     "output_type": "stream",
     "text": [
      "\u001b[92mSVC:\u001b[0m\n",
      "\tBest Score: \u001b[91m0.991\u001b[0m\n",
      "\tBest Params: {'classifier__C': 10, 'classifier__kernel': 'linear'}\n",
      "\tBest Scaler: RobustScaler()\n",
      "\n",
      "\u001b[92mLogistic_Regression:\u001b[0m\n",
      "\tBest Score: \u001b[91m0.986\u001b[0m\n",
      "\tBest Params: {'classifier__C': 10, 'classifier__penalty': 'l2', 'classifier__solver': 'lbfgs'}\n",
      "\tBest Scaler: MinMaxScaler()\n",
      "\n",
      "\u001b[92mKNN:\u001b[0m\n",
      "\tBest Score: \u001b[91m0.986\u001b[0m\n",
      "\tBest Params: {'classifier__algorithm': 'auto', 'classifier__n_neighbors': 16, 'classifier__weights': 'uniform'}\n",
      "\tBest Scaler: StandardScaler()\n",
      "\n",
      "\u001b[92mRandom_Forest:\u001b[0m\n",
      "\tBest Score: \u001b[91m0.973\u001b[0m\n",
      "\tBest Params: {'classifier__max_depth': None, 'classifier__n_estimators': 50}\n",
      "\tBest Scaler: StandardScaler()\n",
      "\n",
      "\u001b[92mGradient_Boosting:\u001b[0m\n",
      "\tBest Score: \u001b[91m0.973\u001b[0m\n",
      "\tBest Params: {'classifier__learning_rate': 0.1, 'classifier__n_estimators': 50}\n",
      "\tBest Scaler: StandardScaler()\n",
      "\n",
      "\u001b[92mKMeans:\u001b[0m\n",
      "\tBest Score: \u001b[91m0.000\u001b[0m\n",
      "\tBest Params: {'classifier__algorithm': 'lloyd'}\n",
      "\tBest Scaler: StandardScaler()\n",
      "\n"
     ]
    }
   ],
   "source": [
    "from sklearn.model_selection import GridSearchCV\n",
    "from sklearn.pipeline import Pipeline\n",
    "from copy import deepcopy\n",
    "from pprint import pprint\n",
    "\n",
    "models_best = {}\n",
    "best_score = 0.0 \n",
    "best_pipe = None\n",
    "best_pipe_info = \"\"\n",
    "for name, mp in model_params.items():\n",
    "    for scaler in mp[\"scalers\"]:\n",
    "        pipeline = Pipeline([ \n",
    "            ('scaler', scaler),\n",
    "            ('classifier', mp['model'])\n",
    "        ])\n",
    "\n",
    "        grid = GridSearchCV(pipeline, mp['params'], cv=5, n_jobs=-1, scoring=\"accuracy\")\n",
    "        grid.fit(X_train, y_train)\n",
    "        if not name in models_best or grid.best_score_ > models_best[name][\"best_score\"]:\n",
    "            models_best[name] = {\n",
    "                'best_score': grid.best_score_,\n",
    "                'best_params': grid.best_params_,\n",
    "                'best_estimator': grid.best_estimator_,\n",
    "                \"best_scaler\": scaler,\n",
    "            }\n",
    "        if grid.best_score_ > best_score:\n",
    "            best_pipe = deepcopy(pipeline)\n",
    "            best_pipe_info = f\"{name}:{models_best[name]}\"\n",
    "            best_score = grid.best_score_\n",
    "\n",
    "best_pipe = best_pipe.fit(X_train, y_train)\n",
    "\n",
    "sorted_models = dict(sorted(\n",
    "    models_best.items(),\n",
    "    key=lambda item: item[1]['best_score'],\n",
    "    reverse=True\n",
    "))\n",
    "\n",
    "for name, result in sorted_models.items():\n",
    "    print(f\"\\x1b[92m{name}:\\x1b[0m\")\n",
    "    print(f\"\\tBest Score: \\x1b[91m{result['best_score']:.3f}\\x1b[0m\")\n",
    "    print(f\"\\tBest Params: {result['best_params']}\")\n",
    "    print(f\"\\tBest Scaler: {result['best_scaler']}\")\n",
    "    print(\"\")\n",
    "\n"
   ]
  },
  {
   "cell_type": "code",
   "execution_count": 10,
   "id": "6dcd66a0",
   "metadata": {},
   "outputs": [
    {
     "name": "stdout",
     "output_type": "stream",
     "text": [
      "Winner:\n",
      "(\"SVC:{'best_score': np.float64(0.9910101010101011), 'best_params': \"\n",
      " \"{'classifier__C': 10, 'classifier__kernel': 'linear'}, 'best_estimator': \"\n",
      " \"Pipeline(steps=[('scaler', RobustScaler()),\\n\"\n",
      " \"                ('classifier', SVC(C=10, kernel='linear', \"\n",
      " \"random_state=0))]), 'best_scaler': RobustScaler()}\")\n"
     ]
    }
   ],
   "source": [
    "print(\"Winner:\")\n",
    "pprint(best_pipe_info)"
   ]
  },
  {
   "cell_type": "code",
   "execution_count": 11,
   "id": "b74d21e7",
   "metadata": {},
   "outputs": [
    {
     "data": {
      "text/plain": [
       "['./data/model_pipe.pkl']"
      ]
     },
     "execution_count": 11,
     "metadata": {},
     "output_type": "execute_result"
    }
   ],
   "source": [
    "import joblib\n",
    "joblib.dump(best_pipe, './data/model_pipe.pkl')"
   ]
  },
  {
   "cell_type": "code",
   "execution_count": 12,
   "id": "845ca93f",
   "metadata": {},
   "outputs": [
    {
     "name": "stdout",
     "output_type": "stream",
     "text": [
      "Accuracy: 0.982\n"
     ]
    }
   ],
   "source": [
    "from sklearn.metrics import accuracy_score\n",
    "\n",
    "\n",
    "loaded_model = joblib.load('./data/model_pipe.pkl')\n",
    "y_pred = loaded_model.predict(X_test)\n",
    "acc = accuracy_score(y_test, y_pred)\n",
    "\n",
    "print(f\"Accuracy: {acc:.3f}\")"
   ]
  },
  {
   "cell_type": "code",
   "execution_count": 13,
   "id": "59871e27",
   "metadata": {},
   "outputs": [],
   "source": [
    "X_test.to_csv(\"./data/X_test.csv\", index=False)"
   ]
  },
  {
   "cell_type": "code",
   "execution_count": null,
   "id": "61ee16a8",
   "metadata": {},
   "outputs": [],
   "source": []
  }
 ],
 "metadata": {
  "kernelspec": {
   "display_name": ".venv",
   "language": "python",
   "name": "python3"
  },
  "language_info": {
   "codemirror_mode": {
    "name": "ipython",
    "version": 3
   },
   "file_extension": ".py",
   "mimetype": "text/x-python",
   "name": "python",
   "nbconvert_exporter": "python",
   "pygments_lexer": "ipython3",
   "version": "3.12.3"
  }
 },
 "nbformat": 4,
 "nbformat_minor": 5
}
